{
 "cells": [
  {
   "cell_type": "markdown",
   "metadata": {},
   "source": [
    "Function "
   ]
  },
  {
   "cell_type": "code",
   "execution_count": 5,
   "metadata": {},
   "outputs": [
    {
     "name": "stdout",
     "output_type": "stream",
     "text": [
      "My Name Rakesh\n",
      "Python learner\n"
     ]
    }
   ],
   "source": [
    "# function \n",
    "# def - keyword is used to defined the function\n",
    "# def <function_name>(): \n",
    "\n",
    "# Ex: \n",
    "\n",
    "def introduction():\n",
    "    print('My Name Rakesh')\n",
    "    print('Python learner')\n",
    "\n",
    "introduction # function  object\n",
    "introduction() # function is called \n"
   ]
  },
  {
   "cell_type": "code",
   "execution_count": 6,
   "metadata": {},
   "outputs": [],
   "source": [
    "# Function \n",
    "# Custom function and in-built function\n",
    "# custom function need to be defined first, before calling it other wise it will through error \n"
   ]
  },
  {
   "cell_type": "code",
   "execution_count": 7,
   "metadata": {},
   "outputs": [],
   "source": [
    "# Function documentation \n",
    "def myfunction():\n",
    "    '''This is simple function for demostration'''\n",
    "    print('Example of the function')"
   ]
  },
  {
   "cell_type": "code",
   "execution_count": 14,
   "metadata": {},
   "outputs": [
    {
     "name": "stdout",
     "output_type": "stream",
     "text": [
      "<function myfunction at 0x000001D055069AF8>\n",
      "This is simple function for demostration\n"
     ]
    }
   ],
   "source": [
    "# Functions in Python are object\n",
    "\n",
    "print(myfunction) # return the object of the function\n",
    "print(myfunction.__doc__) # return the documentation of the function "
   ]
  },
  {
   "cell_type": "code",
   "execution_count": 16,
   "metadata": {},
   "outputs": [
    {
     "name": "stdout",
     "output_type": "stream",
     "text": [
      "Example of the function\n"
     ]
    }
   ],
   "source": [
    "# assiging function to another function \n",
    "myanother = myfunction # assigning function to another variable \n",
    "myanother()  # invoking the assign function using the variable \n",
    "# both are refering to same "
   ]
  },
  {
   "cell_type": "code",
   "execution_count": 19,
   "metadata": {},
   "outputs": [
    {
     "name": "stdout",
     "output_type": "stream",
     "text": [
      "Student Name:  Rakesh\n",
      "Subject Name:  Learning Python\n"
     ]
    }
   ],
   "source": [
    "name = 'Rakesh'\n",
    "sub = 'Learning Python'\n",
    "\n",
    "# Variables define outside of function are of global scope \n",
    "def student():\n",
    "    print('Student Name: ',name)\n",
    "    print('Subject Name: ', sub)\n",
    "    \n",
    "student()"
   ]
  },
  {
   "cell_type": "code",
   "execution_count": 20,
   "metadata": {},
   "outputs": [
    {
     "name": "stdout",
     "output_type": "stream",
     "text": [
      "Student Name:  Ashvin\n",
      "Subject Name:  Learning Python\n"
     ]
    }
   ],
   "source": [
    "# updating the variables which are defined outside will update its value too\n",
    "name='Ashvin'\n",
    "student()"
   ]
  },
  {
   "cell_type": "code",
   "execution_count": 21,
   "metadata": {},
   "outputs": [],
   "source": [
    "# Note: function code will be only executed once it is invoked \n",
    "# defining the function \n",
    "def func_with_error():\n",
    "    '''adding string and number'''\n",
    "    return 'x' + 2 \n",
    "    "
   ]
  },
  {
   "cell_type": "code",
   "execution_count": 22,
   "metadata": {},
   "outputs": [
    {
     "ename": "TypeError",
     "evalue": "can only concatenate str (not \"int\") to str",
     "output_type": "error",
     "traceback": [
      "\u001b[1;31m---------------------------------------------------------------------------\u001b[0m",
      "\u001b[1;31mTypeError\u001b[0m                                 Traceback (most recent call last)",
      "\u001b[1;32m<ipython-input-22-21f4dea4084a>\u001b[0m in \u001b[0;36m<module>\u001b[1;34m\u001b[0m\n\u001b[0;32m      1\u001b[0m \u001b[1;31m# executing the function\u001b[0m\u001b[1;33m\u001b[0m\u001b[1;33m\u001b[0m\u001b[1;33m\u001b[0m\u001b[0m\n\u001b[1;32m----> 2\u001b[1;33m \u001b[0mfunc_with_error\u001b[0m\u001b[1;33m(\u001b[0m\u001b[1;33m)\u001b[0m\u001b[1;33m\u001b[0m\u001b[1;33m\u001b[0m\u001b[0m\n\u001b[0m",
      "\u001b[1;32m<ipython-input-21-5fb17f9954dc>\u001b[0m in \u001b[0;36mfunc_with_error\u001b[1;34m()\u001b[0m\n\u001b[0;32m      3\u001b[0m \u001b[1;32mdef\u001b[0m \u001b[0mfunc_with_error\u001b[0m\u001b[1;33m(\u001b[0m\u001b[1;33m)\u001b[0m\u001b[1;33m:\u001b[0m\u001b[1;33m\u001b[0m\u001b[1;33m\u001b[0m\u001b[0m\n\u001b[0;32m      4\u001b[0m     \u001b[1;34m'''adding string and number'''\u001b[0m\u001b[1;33m\u001b[0m\u001b[1;33m\u001b[0m\u001b[0m\n\u001b[1;32m----> 5\u001b[1;33m     \u001b[1;32mreturn\u001b[0m \u001b[1;34m'x'\u001b[0m \u001b[1;33m+\u001b[0m \u001b[1;36m2\u001b[0m\u001b[1;33m\u001b[0m\u001b[1;33m\u001b[0m\u001b[0m\n\u001b[0m\u001b[0;32m      6\u001b[0m \u001b[1;33m\u001b[0m\u001b[0m\n",
      "\u001b[1;31mTypeError\u001b[0m: can only concatenate str (not \"int\") to str"
     ]
    }
   ],
   "source": [
    "# executing the function \n",
    "func_with_error()"
   ]
  },
  {
   "cell_type": "code",
   "execution_count": 24,
   "metadata": {},
   "outputs": [
    {
     "name": "stdout",
     "output_type": "stream",
     "text": [
      "Name:  Rakesh\n",
      "Name:  Ashvin\n"
     ]
    }
   ],
   "source": [
    "# Input Argument \n",
    "def intro(name):\n",
    "    print('Name: ', name)\n",
    "\n",
    "intro('Rakesh')\n",
    "intro('Ashvin')"
   ]
  },
  {
   "cell_type": "code",
   "execution_count": 27,
   "metadata": {},
   "outputs": [
    {
     "name": "stdout",
     "output_type": "stream",
     "text": [
      "Student Name:  Ashvin\n",
      "Student sub:  Math\n",
      "Student std:  Std 3\n",
      "Student Name:  Math\n",
      "Student sub:  Std 3\n",
      "Student std:  Ashvin\n"
     ]
    }
   ],
   "source": [
    "# Note: Inputs argument is positional \n",
    "def student(name, sub, std):\n",
    "    print('Student Name: ', name)\n",
    "    print('Student sub: ', sub)\n",
    "    print('Student std: ', std)\n",
    "    \n",
    "student('Ashvin', 'Math', 'Std 3')\n",
    "# what happen if i change the sequence of argument\n",
    "student('Math','Std 3', 'Ashvin') # input argument value is blidenly assigned to the seq of variable defined in function "
   ]
  },
  {
   "cell_type": "code",
   "execution_count": 28,
   "metadata": {},
   "outputs": [
    {
     "ename": "TypeError",
     "evalue": "student() missing 2 required positional arguments: 'sub' and 'std'",
     "output_type": "error",
     "traceback": [
      "\u001b[1;31m---------------------------------------------------------------------------\u001b[0m",
      "\u001b[1;31mTypeError\u001b[0m                                 Traceback (most recent call last)",
      "\u001b[1;32m<ipython-input-28-f839a08ee3bd>\u001b[0m in \u001b[0;36m<module>\u001b[1;34m\u001b[0m\n\u001b[0;32m      1\u001b[0m \u001b[1;31m# Positional argument error\u001b[0m\u001b[1;33m\u001b[0m\u001b[1;33m\u001b[0m\u001b[1;33m\u001b[0m\u001b[0m\n\u001b[0;32m      2\u001b[0m \u001b[1;31m# When we pass less or more argument to function it will throw error\u001b[0m\u001b[1;33m\u001b[0m\u001b[1;33m\u001b[0m\u001b[1;33m\u001b[0m\u001b[0m\n\u001b[1;32m----> 3\u001b[1;33m \u001b[0mstudent\u001b[0m\u001b[1;33m(\u001b[0m\u001b[1;34m'Ashvin'\u001b[0m\u001b[1;33m)\u001b[0m\u001b[1;33m\u001b[0m\u001b[1;33m\u001b[0m\u001b[0m\n\u001b[0m\u001b[0;32m      4\u001b[0m \u001b[0mstudent\u001b[0m\u001b[1;33m(\u001b[0m\u001b[1;34m'Ashvin'\u001b[0m\u001b[1;33m,\u001b[0m \u001b[1;34m'Math'\u001b[0m\u001b[1;33m,\u001b[0m \u001b[1;34m'Std3'\u001b[0m\u001b[1;33m,\u001b[0m \u001b[1;34m'sec A'\u001b[0m\u001b[1;33m)\u001b[0m\u001b[1;33m\u001b[0m\u001b[1;33m\u001b[0m\u001b[0m\n",
      "\u001b[1;31mTypeError\u001b[0m: student() missing 2 required positional arguments: 'sub' and 'std'"
     ]
    }
   ],
   "source": [
    "# Positional argument error \n",
    "# When we pass less or more argument to function it will throw error \n",
    "student('Ashvin')\n",
    "student('Ashvin', 'Math', 'Std3', 'sec A')"
   ]
  },
  {
   "cell_type": "code",
   "execution_count": 31,
   "metadata": {},
   "outputs": [
    {
     "name": "stdout",
     "output_type": "stream",
     "text": [
      "Sum:  6\n"
     ]
    }
   ],
   "source": [
    "# Global variables \n",
    "# defining variables outside of function - global\n",
    "a = 20\n",
    "b = 40 \n",
    "\n",
    "def my_add_func(a, b):\n",
    "    print(\"Sum: \", a + b)\n",
    "    \n",
    "my_add_func(2, 4) # observe that a, b areglobal varaibles but function too have a, b as  local variable, thus local variable got executed \n"
   ]
  },
  {
   "cell_type": "code",
   "execution_count": 32,
   "metadata": {},
   "outputs": [
    {
     "ename": "TypeError",
     "evalue": "my_add_func() missing 2 required positional arguments: 'a' and 'b'",
     "output_type": "error",
     "traceback": [
      "\u001b[1;31m---------------------------------------------------------------------------\u001b[0m",
      "\u001b[1;31mTypeError\u001b[0m                                 Traceback (most recent call last)",
      "\u001b[1;32m<ipython-input-32-4799d6d6f87b>\u001b[0m in \u001b[0;36m<module>\u001b[1;34m\u001b[0m\n\u001b[1;32m----> 1\u001b[1;33m \u001b[0mmy_add_func\u001b[0m\u001b[1;33m(\u001b[0m\u001b[1;33m)\u001b[0m\u001b[1;33m\u001b[0m\u001b[1;33m\u001b[0m\u001b[0m\n\u001b[0m",
      "\u001b[1;31mTypeError\u001b[0m: my_add_func() missing 2 required positional arguments: 'a' and 'b'"
     ]
    }
   ],
   "source": [
    "my_add_func() # this will throw error even though global variable a,b are already available it is not passed "
   ]
  },
  {
   "cell_type": "code",
   "execution_count": 34,
   "metadata": {},
   "outputs": [
    {
     "name": "stdout",
     "output_type": "stream",
     "text": [
      "Sum:  60\n"
     ]
    }
   ],
   "source": [
    "my_add_func(a, b) # global variable is passed "
   ]
  },
  {
   "cell_type": "code",
   "execution_count": 35,
   "metadata": {},
   "outputs": [],
   "source": [
    "# Return value from function "
   ]
  },
  {
   "cell_type": "code",
   "execution_count": 37,
   "metadata": {},
   "outputs": [
    {
     "data": {
      "text/plain": [
       "1"
      ]
     },
     "execution_count": 37,
     "metadata": {},
     "output_type": "execute_result"
    }
   ],
   "source": [
    "def subtract_func(firstnum, secnum):\n",
    "    return firstnum - secnum\n",
    "\n",
    "subtract_func(5, 4)"
   ]
  },
  {
   "cell_type": "code",
   "execution_count": 38,
   "metadata": {},
   "outputs": [
    {
     "name": "stdout",
     "output_type": "stream",
     "text": [
      "Sum of Numbers:  32\n",
      "Product of Number:  240\n",
      "Diff of Number:  8\n"
     ]
    }
   ],
   "source": [
    "# Multiple values return \n",
    "def calculator(first, second):\n",
    "    ''' Function accepts two integer number\n",
    "    And return sum, product, and subtraction values  '''\n",
    "    sum_number = first + second \n",
    "    product_number = first * second\n",
    "    sub_number = first - second\n",
    "    return sum_number, product_number, sub_number # return as tuple \n",
    "\n",
    "\n",
    "first_number = 20\n",
    "second_number = 12\n",
    "sum_of_numbers, product_of_number, diff_of_number = calculator(first_number, second_number) \n",
    "\n",
    "print('Sum of Numbers: ', sum_of_numbers)\n",
    "print('Product of Number: ', product_of_number)\n",
    "print('Diff of Number: ', diff_of_number)\n",
    "\n",
    "    "
   ]
  },
  {
   "cell_type": "code",
   "execution_count": 39,
   "metadata": {},
   "outputs": [
    {
     "name": "stdout",
     "output_type": "stream",
     "text": [
      "Sum of Numbers:  12\n",
      "Product of Number:  32\n",
      "Diff of Number:  4\n"
     ]
    }
   ],
   "source": [
    "first_number = 8\n",
    "second_number = 4\n",
    "results = calculator(first_number, second_number) \n",
    "\n",
    "print('Sum of Numbers: ', results[0])\n",
    "print('Product of Number: ', results[1])\n",
    "print('Diff of Number: ', results[2])"
   ]
  },
  {
   "cell_type": "code",
   "execution_count": 40,
   "metadata": {},
   "outputs": [
    {
     "name": "stdout",
     "output_type": "stream",
     "text": [
      "Sum of Numbers:  14\n",
      "Diff of Number:  2\n"
     ]
    }
   ],
   "source": [
    "first_number = 8\n",
    "second_number = 6\n",
    "sum_of_numbers, _, diff_of_number = calculator(first_number, second_number) \n",
    "\n",
    "print('Sum of Numbers: ', sum_of_numbers)\n",
    "#print('Product of Number: ', product_of_number)\n",
    "print('Diff of Number: ', diff_of_number)"
   ]
  },
  {
   "cell_type": "code",
   "execution_count": 41,
   "metadata": {},
   "outputs": [],
   "source": [
    "# as above we can  return - dictionary, list or any other data type "
   ]
  },
  {
   "cell_type": "code",
   "execution_count": 45,
   "metadata": {},
   "outputs": [
    {
     "name": "stdout",
     "output_type": "stream",
     "text": [
      "PCM score  73\n",
      "PCM score  76\n"
     ]
    }
   ],
   "source": [
    "# Keyword argument \n",
    "def student_score(math, phy, chem):\n",
    "    return math+ phy+ chem \n",
    "\n",
    "# calling \n",
    "result = student_score(20, 28, 25)\n",
    "print('PCM score ', result)\n",
    "\n",
    "# keyword based calling \n",
    "result = student_score(phy=28, chem=25, math=23) # No need to maintain the sequence \n",
    "print('PCM score ', result)"
   ]
  },
  {
   "cell_type": "code",
   "execution_count": 48,
   "metadata": {},
   "outputs": [
    {
     "data": {
      "text/plain": [
       "91"
      ]
     },
     "execution_count": 48,
     "metadata": {},
     "output_type": "execute_result"
    }
   ],
   "source": [
    "# mixing positional and keyword argument \n",
    "#student_score(23, chem=23, math=45) # this will throw error as first position is math and angain we are passing math as key \n",
    "\n",
    "student_score(23, chem=23, phy=45) # this is fine "
   ]
  },
  {
   "cell_type": "code",
   "execution_count": 50,
   "metadata": {},
   "outputs": [
    {
     "name": "stdout",
     "output_type": "stream",
     "text": [
      "Test\n"
     ]
    }
   ],
   "source": [
    "# *args - used for accepting any number of argument \n",
    "\n",
    "def custom_print(str1):\n",
    "    print(str1)\n",
    "\n",
    "# custom_print() # this will throw error \n",
    "custom_print('Test')"
   ]
  },
  {
   "cell_type": "code",
   "execution_count": 58,
   "metadata": {},
   "outputs": [
    {
     "name": "stdout",
     "output_type": "stream",
     "text": [
      "<class 'tuple'>\n",
      "()\n",
      "<class 'tuple'>\n",
      "('bob', 'test')\n"
     ]
    }
   ],
   "source": [
    "def accept_multiple(*args):  \n",
    "    args_type = type(args) # accept as tuple \n",
    "    print(args_type)\n",
    "    print(args)\n",
    "\n",
    "accept_multiple()\n",
    "accept_multiple('bob', 'test')"
   ]
  },
  {
   "cell_type": "code",
   "execution_count": 59,
   "metadata": {},
   "outputs": [
    {
     "name": "stdout",
     "output_type": "stream",
     "text": [
      "<class 'tuple'>\n",
      "(['my', 'test'],)\n"
     ]
    }
   ],
   "source": [
    "# what if argument is list \n",
    "mylist =['my', 'test']\n",
    "accept_multiple(mylist) # Note: list is considered as single entity and wrapped under tuple "
   ]
  },
  {
   "cell_type": "code",
   "execution_count": 60,
   "metadata": {},
   "outputs": [
    {
     "name": "stdout",
     "output_type": "stream",
     "text": [
      "Name:  Rakesh\n",
      "Age:  36\n",
      "Other:  ()\n",
      "Name:  Rakesh\n",
      "Age:  36\n",
      "Other:  ('BITS',)\n",
      "Name:  Rakesh\n",
      "Age:  36\n",
      "Other:  ('BITS', 59, 84)\n"
     ]
    }
   ],
   "source": [
    "# combination of fixed and variable arguments\n",
    "def data_storage(name, age, *args): # you may or may not pass values for *args\n",
    "    print('Name: ',name)\n",
    "    print('Age: ', age)\n",
    "    print('Other: ', args)\n",
    "    \n",
    "data_storage('Rakesh', 36)\n",
    "\n",
    "data_storage('Rakesh', 36, 'BITS')\n",
    "\n",
    "data_storage('Rakesh', 36, 'BITS', 59, 84)\n",
    "    "
   ]
  },
  {
   "cell_type": "code",
   "execution_count": 64,
   "metadata": {},
   "outputs": [
    {
     "ename": "TypeError",
     "evalue": "ex_constrainst() missing 2 required keyword-only arguments: 'name' and 'age'",
     "output_type": "error",
     "traceback": [
      "\u001b[1;31m---------------------------------------------------------------------------\u001b[0m",
      "\u001b[1;31mTypeError\u001b[0m                                 Traceback (most recent call last)",
      "\u001b[1;32m<ipython-input-64-56642bad916d>\u001b[0m in \u001b[0;36m<module>\u001b[1;34m\u001b[0m\n\u001b[0;32m      5\u001b[0m     \u001b[0mprint\u001b[0m\u001b[1;33m(\u001b[0m\u001b[1;34m'Info: '\u001b[0m\u001b[1;33m,\u001b[0m \u001b[0minfo\u001b[0m\u001b[1;33m)\u001b[0m\u001b[1;33m\u001b[0m\u001b[1;33m\u001b[0m\u001b[0m\n\u001b[0;32m      6\u001b[0m \u001b[1;33m\u001b[0m\u001b[0m\n\u001b[1;32m----> 7\u001b[1;33m \u001b[0mex_constrainst\u001b[0m\u001b[1;33m(\u001b[0m\u001b[1;34m'Rakesh'\u001b[0m\u001b[1;33m,\u001b[0m \u001b[1;34m'Ashvin'\u001b[0m\u001b[1;33m,\u001b[0m \u001b[1;36m8\u001b[0m \u001b[1;33m)\u001b[0m \u001b[1;31m# this will throw error\u001b[0m\u001b[1;33m\u001b[0m\u001b[1;33m\u001b[0m\u001b[0m\n\u001b[0m",
      "\u001b[1;31mTypeError\u001b[0m: ex_constrainst() missing 2 required keyword-only arguments: 'name' and 'age'"
     ]
    }
   ],
   "source": [
    "# Function argument constrainst \n",
    "def ex_constrainst(*info, name, age):\n",
    "    print('Name: ',name)\n",
    "    print('Age: ', age)\n",
    "    print('Info: ', info)\n",
    "    \n",
    "ex_constrainst('Rakesh', 'Ashvin', 8 ) # this will throw error"
   ]
  },
  {
   "cell_type": "code",
   "execution_count": 65,
   "metadata": {},
   "outputs": [
    {
     "name": "stdout",
     "output_type": "stream",
     "text": [
      "Name:  Kshitij\n",
      "Age:  5\n",
      "Info:  ('Rakesh', 'Ashvin', 8)\n"
     ]
    }
   ],
   "source": [
    "# to access the above function, we need to use keyword for required \n",
    "ex_constrainst('Rakesh', 'Ashvin', 8, name='Kshitij', age=5 )"
   ]
  },
  {
   "cell_type": "code",
   "execution_count": 67,
   "metadata": {},
   "outputs": [
    {
     "name": "stdout",
     "output_type": "stream",
     "text": [
      "<class 'dict'>\n",
      "{}\n",
      "<class 'dict'>\n",
      "{'name': 'Rakesh', 'age': 38}\n"
     ]
    }
   ],
   "source": [
    "# **kwargs - dictionary\n",
    "def example_key(**kwargs):\n",
    "    type_var = type(kwargs)\n",
    "    print(type_var)\n",
    "    print(kwargs)\n",
    "    \n",
    "example_key()\n",
    "example_key(name='Rakesh', age=38)"
   ]
  },
  {
   "cell_type": "code",
   "execution_count": null,
   "metadata": {},
   "outputs": [],
   "source": []
  }
 ],
 "metadata": {
  "kernelspec": {
   "display_name": "Python 3",
   "language": "python",
   "name": "python3"
  },
  "language_info": {
   "codemirror_mode": {
    "name": "ipython",
    "version": 3
   },
   "file_extension": ".py",
   "mimetype": "text/x-python",
   "name": "python",
   "nbconvert_exporter": "python",
   "pygments_lexer": "ipython3",
   "version": "3.7.4"
  }
 },
 "nbformat": 4,
 "nbformat_minor": 4
}
