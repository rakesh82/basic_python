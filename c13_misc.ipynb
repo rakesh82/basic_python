{
 "cells": [
  {
   "cell_type": "markdown",
   "metadata": {},
   "source": [
    "Global and Local Variable "
   ]
  },
  {
   "cell_type": "code",
   "execution_count": 1,
   "metadata": {},
   "outputs": [
    {
     "name": "stdout",
     "output_type": "stream",
     "text": [
      "Name:  Rakesh\n",
      "marks:  60\n"
     ]
    }
   ],
   "source": [
    "name= 'Rakesh'\n",
    "marks= 60\n",
    "\n",
    "def student():\n",
    "    print('Name: ', name)\n",
    "    print('marks: ', marks)\n",
    "    \n",
    "# example of global variable \n",
    "student()"
   ]
  },
  {
   "cell_type": "code",
   "execution_count": 2,
   "metadata": {},
   "outputs": [
    {
     "name": "stdout",
     "output_type": "stream",
     "text": [
      "Name:  Rakesh\n",
      "marks:  70\n"
     ]
    }
   ],
   "source": [
    "def student():\n",
    "    marks = 70 # local variable \n",
    "    print('Name: ', name)\n",
    "    print('marks: ', marks)\n",
    "    \n",
    "student()"
   ]
  },
  {
   "cell_type": "code",
   "execution_count": 3,
   "metadata": {},
   "outputs": [
    {
     "ename": "UnboundLocalError",
     "evalue": "local variable 'marks' referenced before assignment",
     "output_type": "error",
     "traceback": [
      "\u001b[1;31m---------------------------------------------------------------------------\u001b[0m",
      "\u001b[1;31mUnboundLocalError\u001b[0m                         Traceback (most recent call last)",
      "\u001b[1;32m<ipython-input-3-f78f59dcdaed>\u001b[0m in \u001b[0;36m<module>\u001b[1;34m\u001b[0m\n\u001b[0;32m      4\u001b[0m     \u001b[0mprint\u001b[0m\u001b[1;33m(\u001b[0m\u001b[1;34m'marks: '\u001b[0m\u001b[1;33m,\u001b[0m \u001b[0mmarks\u001b[0m\u001b[1;33m)\u001b[0m\u001b[1;33m\u001b[0m\u001b[1;33m\u001b[0m\u001b[0m\n\u001b[0;32m      5\u001b[0m \u001b[1;33m\u001b[0m\u001b[0m\n\u001b[1;32m----> 6\u001b[1;33m \u001b[0mstudent\u001b[0m\u001b[1;33m(\u001b[0m\u001b[1;33m)\u001b[0m\u001b[1;33m\u001b[0m\u001b[1;33m\u001b[0m\u001b[0m\n\u001b[0m",
      "\u001b[1;32m<ipython-input-3-f78f59dcdaed>\u001b[0m in \u001b[0;36mstudent\u001b[1;34m()\u001b[0m\n\u001b[0;32m      1\u001b[0m \u001b[1;32mdef\u001b[0m \u001b[0mstudent\u001b[0m\u001b[1;33m(\u001b[0m\u001b[1;33m)\u001b[0m\u001b[1;33m:\u001b[0m\u001b[1;33m\u001b[0m\u001b[1;33m\u001b[0m\u001b[0m\n\u001b[1;32m----> 2\u001b[1;33m     \u001b[0mmarks\u001b[0m \u001b[1;33m=\u001b[0m \u001b[0mmarks\u001b[0m \u001b[1;33m+\u001b[0m \u001b[1;36m30\u001b[0m\u001b[1;33m\u001b[0m\u001b[1;33m\u001b[0m\u001b[0m\n\u001b[0m\u001b[0;32m      3\u001b[0m     \u001b[0mprint\u001b[0m\u001b[1;33m(\u001b[0m\u001b[1;34m'Name: '\u001b[0m\u001b[1;33m,\u001b[0m \u001b[0mname\u001b[0m\u001b[1;33m)\u001b[0m\u001b[1;33m\u001b[0m\u001b[1;33m\u001b[0m\u001b[0m\n\u001b[0;32m      4\u001b[0m     \u001b[0mprint\u001b[0m\u001b[1;33m(\u001b[0m\u001b[1;34m'marks: '\u001b[0m\u001b[1;33m,\u001b[0m \u001b[0mmarks\u001b[0m\u001b[1;33m)\u001b[0m\u001b[1;33m\u001b[0m\u001b[1;33m\u001b[0m\u001b[0m\n\u001b[0;32m      5\u001b[0m \u001b[1;33m\u001b[0m\u001b[0m\n",
      "\u001b[1;31mUnboundLocalError\u001b[0m: local variable 'marks' referenced before assignment"
     ]
    }
   ],
   "source": [
    "def student():\n",
    "    marks = marks + 30 # python got confuse to call local or global\n",
    "    print('Name: ', name)\n",
    "    print('marks: ', marks)\n",
    "    \n",
    "student()"
   ]
  },
  {
   "cell_type": "code",
   "execution_count": 4,
   "metadata": {},
   "outputs": [
    {
     "name": "stdout",
     "output_type": "stream",
     "text": [
      "Name:  Rakesh\n",
      "marks:  90\n"
     ]
    }
   ],
   "source": [
    "def student():\n",
    "    global marks\n",
    "    \n",
    "    marks = marks + 30\n",
    "    print('Name: ', name)\n",
    "    print('marks: ', marks)\n",
    "\n",
    "student()"
   ]
  },
  {
   "cell_type": "markdown",
   "metadata": {},
   "source": [
    "Passing argument by Value"
   ]
  },
  {
   "cell_type": "code",
   "execution_count": 5,
   "metadata": {},
   "outputs": [
    {
     "name": "stdout",
     "output_type": "stream",
     "text": [
      "Account Name:  Rakesh\n",
      "Saving:  800\n",
      "Interest Rate:  0.04\n"
     ]
    }
   ],
   "source": [
    "# Example:\n",
    "salary = 1000\n",
    "expanses = 200\n",
    "name = 'Rakesh'\n",
    "interest_rate = 0.04\n",
    "\n",
    "def print_saving_details():\n",
    "    print('Account Name: ', name)\n",
    "    \n",
    "    saving = salary - expanses\n",
    "    print('Saving: ', saving)\n",
    "    print('Interest Rate: ', interest_rate)\n",
    "\n",
    "print_saving_details()"
   ]
  },
  {
   "cell_type": "code",
   "execution_count": 8,
   "metadata": {},
   "outputs": [
    {
     "name": "stdout",
     "output_type": "stream",
     "text": [
      "Account Name:  Ashvin\n",
      "Saving:  1600\n",
      "Interest Rate:  0.03\n"
     ]
    }
   ],
   "source": [
    "# passing as local value\n",
    "def print_saving_details(name, salary, expanses, interest_rate):  # pass by value \n",
    "    print('Account Name: ', name)\n",
    "    expanses = expanses + 100\n",
    "    saving = salary - expanses\n",
    "    print('Saving: ', saving)\n",
    "    print('Interest Rate: ', interest_rate)\n",
    "    \n",
    "print_saving_details('Ashvin', 2000, 300, 0.03)\n",
    "# Note that premitive datatypes are pass by value "
   ]
  },
  {
   "cell_type": "code",
   "execution_count": 7,
   "metadata": {},
   "outputs": [
    {
     "data": {
      "text/plain": [
       "('Rakesh', 1000, 200, 0.04)"
      ]
     },
     "execution_count": 7,
     "metadata": {},
     "output_type": "execute_result"
    }
   ],
   "source": [
    "name, salary, expanses, interest_rate  # does not change in global value "
   ]
  },
  {
   "cell_type": "markdown",
   "metadata": {},
   "source": [
    "Pass by reference "
   ]
  },
  {
   "cell_type": "code",
   "execution_count": 10,
   "metadata": {},
   "outputs": [
    {
     "name": "stdout",
     "output_type": "stream",
     "text": [
      "Modified :  ['rakesh', 'ashvin', 'Ksitij', 'Vinita']\n",
      "orginal list:  ['rakesh', 'ashvin', 'Ksitij', 'Vinita']\n"
     ]
    }
   ],
   "source": [
    "# lets define a list \n",
    "name_list = ['rakesh', 'ashvin', 'Ksitij']\n",
    "\n",
    "def ex_reference(n_list):\n",
    "    n_list.append('Vinita')\n",
    "    print('Modified : ', n_list)\n",
    "\n",
    "ex_reference(name_list)   \n",
    "print('orginal list: ', name_list)\n",
    "\n",
    "# Observe that both list value is same, complex data type are passed by reference "
   ]
  },
  {
   "cell_type": "code",
   "execution_count": 13,
   "metadata": {},
   "outputs": [
    {
     "name": "stdout",
     "output_type": "stream",
     "text": [
      "orginal list before function called:  ['rakesh', 'ashvin', 'Ksitij']\n",
      "Modified :  ['rakesh', 'ashvin', 'Ksitij', 'Vinita']\n",
      "orginal list:  ['rakesh', 'ashvin', 'Ksitij', 'Vinita']\n"
     ]
    }
   ],
   "source": [
    "# lets define a list \n",
    "name_list = ['rakesh', 'ashvin', 'Ksitij']\n",
    "print('orginal list before function called: ', name_list)\n",
    "\n",
    "def ex_reference(n_list):\n",
    "    m_list = n_list\n",
    "    m_list.append('Vinita')\n",
    "    print('Modified : ', m_list)\n",
    "\n",
    "ex_reference(name_list)   \n",
    "print('orginal list: ', name_list)"
   ]
  },
  {
   "cell_type": "code",
   "execution_count": null,
   "metadata": {},
   "outputs": [],
   "source": []
  }
 ],
 "metadata": {
  "kernelspec": {
   "display_name": "Python 3",
   "language": "python",
   "name": "python3"
  },
  "language_info": {
   "codemirror_mode": {
    "name": "ipython",
    "version": 3
   },
   "file_extension": ".py",
   "mimetype": "text/x-python",
   "name": "python",
   "nbconvert_exporter": "python",
   "pygments_lexer": "ipython3",
   "version": "3.7.4"
  }
 },
 "nbformat": 4,
 "nbformat_minor": 4
}
