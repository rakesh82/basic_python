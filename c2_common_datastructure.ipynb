{
 "cells": [
  {
   "cell_type": "markdown",
   "metadata": {},
   "source": [
    "Common DataStructure of Python "
   ]
  },
  {
   "cell_type": "markdown",
   "metadata": {},
   "source": [
    "List"
   ]
  },
  {
   "cell_type": "code",
   "execution_count": 3,
   "metadata": {},
   "outputs": [
    {
     "data": {
      "text/plain": [
       "list"
      ]
     },
     "execution_count": 3,
     "metadata": {},
     "output_type": "execute_result"
    }
   ],
   "source": [
    "# empty list\n",
    "my_list = []\n",
    "type(my_list)"
   ]
  },
  {
   "cell_type": "code",
   "execution_count": 4,
   "metadata": {},
   "outputs": [
    {
     "data": {
      "text/plain": [
       "[True, False, True]"
      ]
     },
     "execution_count": 4,
     "metadata": {},
     "output_type": "execute_result"
    }
   ],
   "source": [
    "# example\n",
    "bool_list = [True, False, True]\n",
    "bool_list"
   ]
  },
  {
   "cell_type": "code",
   "execution_count": 5,
   "metadata": {},
   "outputs": [
    {
     "data": {
      "text/plain": [
       "[1, 2.3, 'stringvalue']"
      ]
     },
     "execution_count": 5,
     "metadata": {},
     "output_type": "execute_result"
    }
   ],
   "source": [
    "# mix data type list\n",
    "mix_list = [1,2.3, 'stringvalue']\n",
    "mix_list"
   ]
  },
  {
   "cell_type": "code",
   "execution_count": 7,
   "metadata": {},
   "outputs": [
    {
     "data": {
      "text/plain": [
       "[1, 1, 1, 'my', 'my']"
      ]
     },
     "execution_count": 7,
     "metadata": {},
     "output_type": "execute_result"
    }
   ],
   "source": [
    "# list can have duplicate values \n",
    "dup_list = [1, 1, 1, 'my', 'my']\n",
    "dup_list"
   ]
  },
  {
   "cell_type": "code",
   "execution_count": 8,
   "metadata": {},
   "outputs": [
    {
     "data": {
      "text/plain": [
       "1"
      ]
     },
     "execution_count": 8,
     "metadata": {},
     "output_type": "execute_result"
    }
   ],
   "source": [
    "# Accessing element of list \n",
    "# by index \n",
    "ex_list = [1, 2, 3, 5]\n",
    "ex_list[0]"
   ]
  },
  {
   "cell_type": "code",
   "execution_count": 9,
   "metadata": {},
   "outputs": [
    {
     "name": "stdout",
     "output_type": "stream",
     "text": [
      "First\n",
      "Third\n"
     ]
    }
   ],
   "source": [
    "# index start with 0 to len(list) -1\n",
    "my_list =[\"First\", \"Second\", \"Third\"]\n",
    "print(my_list[0])\n",
    "print(my_list[len(my_list) -1])"
   ]
  },
  {
   "cell_type": "code",
   "execution_count": 1,
   "metadata": {},
   "outputs": [
    {
     "name": "stdout",
     "output_type": "stream",
     "text": [
      "hundai\n",
      "maruti\n"
     ]
    }
   ],
   "source": [
    "# Negative index\n",
    "cars = ['toyota', 'honda', 'maruti', 'hundai']\n",
    "print(cars[-1])\n",
    "print(cars[-2])"
   ]
  },
  {
   "cell_type": "code",
   "execution_count": 3,
   "metadata": {},
   "outputs": [
    {
     "data": {
      "text/plain": [
       "['toyota', 'honda', 'maruti', 'Nissan']"
      ]
     },
     "execution_count": 3,
     "metadata": {},
     "output_type": "execute_result"
    }
   ],
   "source": [
    "# Index can be also used for updating \n",
    "\n",
    "cars[3] = 'Nissan'\n",
    "cars"
   ]
  },
  {
   "cell_type": "code",
   "execution_count": 4,
   "metadata": {},
   "outputs": [
    {
     "data": {
      "text/plain": [
       "['toyota', 'honda', 'maruti', 'Nissan', 'Hundai']"
      ]
     },
     "execution_count": 4,
     "metadata": {},
     "output_type": "execute_result"
    }
   ],
   "source": [
    "# Adding new element in the list \n",
    "cars.append('Hundai')\n",
    "cars"
   ]
  },
  {
   "cell_type": "code",
   "execution_count": 5,
   "metadata": {},
   "outputs": [
    {
     "ename": "TypeError",
     "evalue": "append() takes exactly one argument (2 given)",
     "output_type": "error",
     "traceback": [
      "\u001b[1;31m---------------------------------------------------------------------------\u001b[0m",
      "\u001b[1;31mTypeError\u001b[0m                                 Traceback (most recent call last)",
      "\u001b[1;32m<ipython-input-5-6c6da744518f>\u001b[0m in \u001b[0;36m<module>\u001b[1;34m\u001b[0m\n\u001b[0;32m      1\u001b[0m \u001b[1;31m# Appending two element\u001b[0m\u001b[1;33m\u001b[0m\u001b[1;33m\u001b[0m\u001b[1;33m\u001b[0m\u001b[0m\n\u001b[1;32m----> 2\u001b[1;33m \u001b[0mcars\u001b[0m\u001b[1;33m.\u001b[0m\u001b[0mappend\u001b[0m\u001b[1;33m(\u001b[0m\u001b[1;34m'Fiat'\u001b[0m\u001b[1;33m,\u001b[0m \u001b[1;34m'VW'\u001b[0m\u001b[1;33m)\u001b[0m \u001b[1;31m# this will throw error as append will accept only one element\u001b[0m\u001b[1;33m\u001b[0m\u001b[1;33m\u001b[0m\u001b[0m\n\u001b[0m",
      "\u001b[1;31mTypeError\u001b[0m: append() takes exactly one argument (2 given)"
     ]
    }
   ],
   "source": [
    "# Appending two element \n",
    "cars.append('Fiat', 'VW') # this will throw error as append will accept only one element"
   ]
  },
  {
   "cell_type": "code",
   "execution_count": 8,
   "metadata": {},
   "outputs": [
    {
     "data": {
      "text/plain": [
       "['toyota',\n",
       " 'honda',\n",
       " 'maruti',\n",
       " 'Nissan',\n",
       " 'Hundai',\n",
       " 'Fiat',\n",
       " 'Fiat',\n",
       " 'VW',\n",
       " 'Fiat',\n",
       " 'VW']"
      ]
     },
     "execution_count": 8,
     "metadata": {},
     "output_type": "execute_result"
    }
   ],
   "source": [
    "# insert function - if we wanted to insert an element at specific location in the list \n",
    "cars.insert(11, 'Fiat')\n",
    "cars.insert(13, 'VW')\n",
    "cars"
   ]
  },
  {
   "cell_type": "code",
   "execution_count": 9,
   "metadata": {},
   "outputs": [
    {
     "data": {
      "text/plain": [
       "10"
      ]
     },
     "execution_count": 9,
     "metadata": {},
     "output_type": "execute_result"
    }
   ],
   "source": [
    "len(cars)"
   ]
  },
  {
   "cell_type": "code",
   "execution_count": 11,
   "metadata": {},
   "outputs": [],
   "source": [
    "# extend - function is used for adding multiple element\n",
    "cars.extend(['Kia', 'Tata'])"
   ]
  },
  {
   "cell_type": "code",
   "execution_count": 12,
   "metadata": {},
   "outputs": [
    {
     "data": {
      "text/plain": [
       "['toyota',\n",
       " 'honda',\n",
       " 'maruti',\n",
       " 'Nissan',\n",
       " 'Hundai',\n",
       " 'Fiat',\n",
       " 'Fiat',\n",
       " 'VW',\n",
       " 'Fiat',\n",
       " 'VW',\n",
       " 'Kia',\n",
       " 'Tata']"
      ]
     },
     "execution_count": 12,
     "metadata": {},
     "output_type": "execute_result"
    }
   ],
   "source": [
    "cars"
   ]
  },
  {
   "cell_type": "code",
   "execution_count": 13,
   "metadata": {},
   "outputs": [
    {
     "name": "stdout",
     "output_type": "stream",
     "text": [
      "New List:  ['toyota', 'honda', 'maruti', 'Nissan', 'Hundai', 'Fiat', 'Fiat', 'VW', 'Fiat', 'VW', 'Kia', 'Tata', 'Mercedes', 'BMW']\n",
      "Old cars list:  ['toyota', 'honda', 'maruti', 'Nissan', 'Hundai', 'Fiat', 'Fiat', 'VW', 'Fiat', 'VW', 'Kia', 'Tata']\n"
     ]
    }
   ],
   "source": [
    "## Adding two list using + operator it will return new list without impacting the other list \n",
    "\n",
    "exp_cars = ['Mercedes', 'BMW']\n",
    "new_cars_list = cars + exp_cars\n",
    "print('New List: ', new_cars_list)\n",
    "print('Old cars list: ', cars)"
   ]
  },
  {
   "cell_type": "code",
   "execution_count": 14,
   "metadata": {},
   "outputs": [
    {
     "data": {
      "text/plain": [
       "5"
      ]
     },
     "execution_count": 14,
     "metadata": {},
     "output_type": "execute_result"
    }
   ],
   "source": [
    "# index function - return the index value of given element \n",
    "cars.index('Fiat')"
   ]
  },
  {
   "cell_type": "code",
   "execution_count": 15,
   "metadata": {},
   "outputs": [
    {
     "data": {
      "text/plain": [
       "['toyota',\n",
       " 'honda',\n",
       " 'maruti',\n",
       " 'Nissan',\n",
       " 'Hundai',\n",
       " 'Fiat',\n",
       " 'Fiat',\n",
       " 'VW',\n",
       " 'Fiat',\n",
       " 'VW',\n",
       " 'Kia',\n",
       " 'Tata',\n",
       " 'Poshe',\n",
       " 'Dugati']"
      ]
     },
     "execution_count": 15,
     "metadata": {},
     "output_type": "execute_result"
    }
   ],
   "source": [
    "# other operator \n",
    "cars += ['Poshe', 'Dugati']\n",
    "cars"
   ]
  },
  {
   "cell_type": "code",
   "execution_count": 16,
   "metadata": {},
   "outputs": [
    {
     "data": {
      "text/plain": [
       "'Dugati'"
      ]
     },
     "execution_count": 16,
     "metadata": {},
     "output_type": "execute_result"
    }
   ],
   "source": [
    "# pop \n",
    "\n",
    "cars.pop()"
   ]
  },
  {
   "cell_type": "code",
   "execution_count": 17,
   "metadata": {},
   "outputs": [
    {
     "data": {
      "text/plain": [
       "['toyota',\n",
       " 'honda',\n",
       " 'maruti',\n",
       " 'Nissan',\n",
       " 'Hundai',\n",
       " 'Fiat',\n",
       " 'Fiat',\n",
       " 'VW',\n",
       " 'Fiat',\n",
       " 'VW',\n",
       " 'Kia',\n",
       " 'Tata',\n",
       " 'Poshe']"
      ]
     },
     "execution_count": 17,
     "metadata": {},
     "output_type": "execute_result"
    }
   ],
   "source": [
    "cars"
   ]
  },
  {
   "cell_type": "code",
   "execution_count": 20,
   "metadata": {},
   "outputs": [
    {
     "data": {
      "text/plain": [
       "3"
      ]
     },
     "execution_count": 20,
     "metadata": {},
     "output_type": "execute_result"
    }
   ],
   "source": [
    "# count - return the count of given element\n",
    "cars.count('Fiat')"
   ]
  },
  {
   "cell_type": "code",
   "execution_count": 21,
   "metadata": {},
   "outputs": [
    {
     "data": {
      "text/plain": [
       "{'Fiat',\n",
       " 'Hundai',\n",
       " 'Kia',\n",
       " 'Nissan',\n",
       " 'Poshe',\n",
       " 'Tata',\n",
       " 'VW',\n",
       " 'honda',\n",
       " 'maruti',\n",
       " 'toyota'}"
      ]
     },
     "execution_count": 21,
     "metadata": {},
     "output_type": "execute_result"
    }
   ],
   "source": [
    "# set - is another data type which similar to list \n",
    "# except it does not contain any duplicate \n",
    "set(cars)"
   ]
  },
  {
   "cell_type": "code",
   "execution_count": 22,
   "metadata": {},
   "outputs": [
    {
     "data": {
      "text/plain": [
       "[]"
      ]
     },
     "execution_count": 22,
     "metadata": {},
     "output_type": "execute_result"
    }
   ],
   "source": [
    "# clear function - removes all element in one go \n",
    "cars.clear()\n",
    "cars"
   ]
  },
  {
   "cell_type": "code",
   "execution_count": 23,
   "metadata": {},
   "outputs": [
    {
     "data": {
      "text/plain": [
       "['toyota',\n",
       " 'honda',\n",
       " 'maruti',\n",
       " 'Nissan',\n",
       " 'Hundai',\n",
       " 'Fiat',\n",
       " 'Fiat',\n",
       " 'VW',\n",
       " 'Fiat',\n",
       " 'VW',\n",
       " 'Kia',\n",
       " 'Tata',\n",
       " 'Mercedes',\n",
       " 'BMW']"
      ]
     },
     "execution_count": 23,
     "metadata": {},
     "output_type": "execute_result"
    }
   ],
   "source": [
    "# copy - function - it crates exact copy of the list in memory \n",
    "# ANy changes in copy list does not impact the main list \n",
    "copy_cars = new_cars_list.copy()\n",
    "copy_cars"
   ]
  },
  {
   "cell_type": "code",
   "execution_count": 24,
   "metadata": {},
   "outputs": [
    {
     "name": "stdout",
     "output_type": "stream",
     "text": [
      "List of cars in copy:  ['toyota', 'honda', 'maruti', 'Nissan', 'Hundai', 'Fiat', 'Fiat', 'VW', 'Fiat', 'VW', 'Kia', 'Tata', 'Mercedes', 'BMW', 'Dugati', 'Poush']\n",
      "List of cars in Original:  ['toyota', 'honda', 'maruti', 'Nissan', 'Hundai', 'Fiat', 'Fiat', 'VW', 'Fiat', 'VW', 'Kia', 'Tata', 'Mercedes', 'BMW']\n"
     ]
    }
   ],
   "source": [
    "copy_cars += ['Dugati', 'Poush']\n",
    "print(\"List of cars in copy: \", copy_cars)\n",
    "print(\"List of cars in Original: \", new_cars_list)"
   ]
  },
  {
   "cell_type": "code",
   "execution_count": 25,
   "metadata": {},
   "outputs": [],
   "source": [
    "# del - command to delete the list entirely from memory \n",
    "del new_cars_list"
   ]
  },
  {
   "cell_type": "code",
   "execution_count": 27,
   "metadata": {},
   "outputs": [
    {
     "ename": "NameError",
     "evalue": "name 'new_cars_list' is not defined",
     "output_type": "error",
     "traceback": [
      "\u001b[1;31m---------------------------------------------------------------------------\u001b[0m",
      "\u001b[1;31mNameError\u001b[0m                                 Traceback (most recent call last)",
      "\u001b[1;32m<ipython-input-27-978ca0f679a3>\u001b[0m in \u001b[0;36m<module>\u001b[1;34m\u001b[0m\n\u001b[1;32m----> 1\u001b[1;33m \u001b[0mnew_cars_list\u001b[0m \u001b[1;31m# throw error - not defined as it is deleted in above command\u001b[0m\u001b[1;33m\u001b[0m\u001b[1;33m\u001b[0m\u001b[0m\n\u001b[0m",
      "\u001b[1;31mNameError\u001b[0m: name 'new_cars_list' is not defined"
     ]
    }
   ],
   "source": [
    "new_cars_list # throw error - not defined as it is deleted in above command "
   ]
  },
  {
   "cell_type": "code",
   "execution_count": 28,
   "metadata": {},
   "outputs": [
    {
     "data": {
      "text/plain": [
       "['toyota',\n",
       " 'honda',\n",
       " 'maruti',\n",
       " 'Nissan',\n",
       " 'Hundai',\n",
       " 'Fiat',\n",
       " 'Fiat',\n",
       " 'VW',\n",
       " 'Fiat',\n",
       " 'VW',\n",
       " 'Kia',\n",
       " 'Tata',\n",
       " 'Mercedes',\n",
       " 'BMW',\n",
       " 'Dugati',\n",
       " 'Poush']"
      ]
     },
     "execution_count": 28,
     "metadata": {},
     "output_type": "execute_result"
    }
   ],
   "source": [
    "copy_cars"
   ]
  },
  {
   "cell_type": "code",
   "execution_count": 29,
   "metadata": {},
   "outputs": [
    {
     "name": "stdout",
     "output_type": "stream",
     "text": [
      "Original cars:  ['toyota', 'honda', 'maruti', 'Nissan', 'Hundai', 'Fiat', 'Fiat', 'VW', 'Fiat', 'VW', 'Kia', 'Tata', 'Mercedes', 'BMW', 'Dugati', 'Poush']\n",
      "Original cars:  ['toyota', 'honda', 'maruti', 'Nissan', 'Hundai', 'Fiat', 'Fiat', 'VW', 'Fiat', 'VW', 'Kia', 'Tata', 'Mercedes', 'BMW', 'Dugati']\n"
     ]
    }
   ],
   "source": [
    "# shallow copy using = assign operator \n",
    "# in shallow copy - changing in one will make changes in another \n",
    "ex_shallow = copy_cars\n",
    "print(\"Original cars: \", copy_cars)\n",
    "\n",
    "ex_shallow.pop()\n",
    "print(\"Original cars: \", copy_cars)"
   ]
  },
  {
   "cell_type": "code",
   "execution_count": 30,
   "metadata": {},
   "outputs": [],
   "source": [
    "# remove - function to remove specific element \n",
    "copy_cars.remove('toyota')"
   ]
  },
  {
   "cell_type": "code",
   "execution_count": 31,
   "metadata": {},
   "outputs": [
    {
     "data": {
      "text/plain": [
       "['honda',\n",
       " 'maruti',\n",
       " 'Nissan',\n",
       " 'Hundai',\n",
       " 'Fiat',\n",
       " 'Fiat',\n",
       " 'VW',\n",
       " 'Fiat',\n",
       " 'VW',\n",
       " 'Kia',\n",
       " 'Tata',\n",
       " 'Mercedes',\n",
       " 'BMW',\n",
       " 'Dugati']"
      ]
     },
     "execution_count": 31,
     "metadata": {},
     "output_type": "execute_result"
    }
   ],
   "source": [
    "copy_cars"
   ]
  },
  {
   "cell_type": "code",
   "execution_count": 32,
   "metadata": {},
   "outputs": [
    {
     "data": {
      "text/plain": [
       "90"
      ]
     },
     "execution_count": 32,
     "metadata": {},
     "output_type": "execute_result"
    }
   ],
   "source": [
    "# max - function return the max value \n",
    "num_list = [20, 30, 40, 50, 60, 70, 80, 90]\n",
    "max(num_list)"
   ]
  },
  {
   "cell_type": "code",
   "execution_count": 33,
   "metadata": {},
   "outputs": [
    {
     "data": {
      "text/plain": [
       "20"
      ]
     },
     "execution_count": 33,
     "metadata": {},
     "output_type": "execute_result"
    }
   ],
   "source": [
    "# min \n",
    "min(num_list)"
   ]
  },
  {
   "cell_type": "code",
   "execution_count": 35,
   "metadata": {},
   "outputs": [
    {
     "data": {
      "text/plain": [
       "[20, 30, 40, 50, 60, 70, 80, 90]"
      ]
     },
     "execution_count": 35,
     "metadata": {},
     "output_type": "execute_result"
    }
   ],
   "source": [
    "# sort \n",
    "num_list.sort()\n",
    "num_list"
   ]
  },
  {
   "cell_type": "code",
   "execution_count": 36,
   "metadata": {},
   "outputs": [],
   "source": [
    "num_list.append(24)"
   ]
  },
  {
   "cell_type": "code",
   "execution_count": 37,
   "metadata": {},
   "outputs": [
    {
     "name": "stdout",
     "output_type": "stream",
     "text": [
      "Number list:  [20, 30, 40, 50, 60, 70, 80, 90, 24]\n"
     ]
    }
   ],
   "source": [
    "# Now list is not soreted \n",
    "print(\"Number list: \", num_list)"
   ]
  },
  {
   "cell_type": "code",
   "execution_count": 38,
   "metadata": {},
   "outputs": [
    {
     "name": "stdout",
     "output_type": "stream",
     "text": [
      "Sorted List:  [20, 24, 30, 40, 50, 60, 70, 80, 90]\n",
      "Number list:  [20, 30, 40, 50, 60, 70, 80, 90, 24]\n"
     ]
    }
   ],
   "source": [
    "# sorted function - it will create new list with sorted order without affecting the original list \n",
    "sorted_list = sorted(num_list)\n",
    "print(\"Sorted List: \", sorted_list)\n",
    "print(\"Number list: \", num_list)"
   ]
  },
  {
   "cell_type": "code",
   "execution_count": 39,
   "metadata": {},
   "outputs": [
    {
     "data": {
      "text/plain": [
       "464"
      ]
     },
     "execution_count": 39,
     "metadata": {},
     "output_type": "execute_result"
    }
   ],
   "source": [
    "# sum \n",
    "sum(sorted_list)"
   ]
  },
  {
   "cell_type": "code",
   "execution_count": 40,
   "metadata": {},
   "outputs": [
    {
     "data": {
      "text/plain": [
       "[20, 30, 40, 50, 60, 70, 80, 90, 24, 20, 30, 40, 50, 60, 70, 80, 90, 24]"
      ]
     },
     "execution_count": 40,
     "metadata": {},
     "output_type": "execute_result"
    }
   ],
   "source": [
    "# other arthmetic operation \n",
    "num_list *= 2\n",
    "num_list"
   ]
  },
  {
   "cell_type": "code",
   "execution_count": 43,
   "metadata": {},
   "outputs": [
    {
     "name": "stdout",
     "output_type": "stream",
     "text": [
      "False\n",
      "True\n",
      "False\n",
      "False\n",
      "True\n"
     ]
    }
   ],
   "source": [
    "# all - all function will check all element are true \n",
    "print(all([0]))\n",
    "print(all([1])) # True - any number instead of 0 will return true \n",
    "print(all([1, 0])) # False \n",
    "print(all([1,0,1])) # False since one of the element is false\n",
    "print(all([])) # True "
   ]
  },
  {
   "cell_type": "code",
   "execution_count": 44,
   "metadata": {},
   "outputs": [
    {
     "name": "stdout",
     "output_type": "stream",
     "text": [
      "False\n",
      "True\n",
      "True\n",
      "False\n"
     ]
    }
   ],
   "source": [
    "# any function  - \n",
    "print(any([0]))\n",
    "print(any([1]))\n",
    "print(any([0, 1]))\n",
    "print(any([]))\n"
   ]
  },
  {
   "cell_type": "code",
   "execution_count": 45,
   "metadata": {},
   "outputs": [
    {
     "data": {
      "text/plain": [
       "['Toyota', 'Tata', 'Maruti', 'Hundai', 'Kia', 'Honda']"
      ]
     },
     "execution_count": 45,
     "metadata": {},
     "output_type": "execute_result"
    }
   ],
   "source": [
    "# slicing \n",
    "car_maker_list = ['Toyota', 'Tata', 'Maruti', 'Hundai', 'Kia', 'Honda']\n",
    "car_maker_list"
   ]
  },
  {
   "cell_type": "code",
   "execution_count": 46,
   "metadata": {},
   "outputs": [
    {
     "data": {
      "text/plain": [
       "6"
      ]
     },
     "execution_count": 46,
     "metadata": {},
     "output_type": "execute_result"
    }
   ],
   "source": [
    "# length of list \n",
    "len(car_maker_list)"
   ]
  },
  {
   "cell_type": "code",
   "execution_count": 47,
   "metadata": {},
   "outputs": [
    {
     "data": {
      "text/plain": [
       "['Toyota', 'Tata', 'Maruti', 'Hundai']"
      ]
     },
     "execution_count": 47,
     "metadata": {},
     "output_type": "execute_result"
    }
   ],
   "source": [
    "# Slicing \n",
    "car_maker_list[0:4] # start, to end - end index is exclusive"
   ]
  },
  {
   "cell_type": "code",
   "execution_count": 48,
   "metadata": {},
   "outputs": [
    {
     "data": {
      "text/plain": [
       "['Toyota', 'Tata', 'Maruti', 'Hundai', 'Kia', 'Honda']"
      ]
     },
     "execution_count": 48,
     "metadata": {},
     "output_type": "execute_result"
    }
   ],
   "source": [
    "car_maker_list[0:6]"
   ]
  },
  {
   "cell_type": "code",
   "execution_count": 49,
   "metadata": {},
   "outputs": [
    {
     "data": {
      "text/plain": [
       "['Toyota', 'Tata', 'Maruti', 'Hundai', 'Kia', 'Honda']"
      ]
     },
     "execution_count": 49,
     "metadata": {},
     "output_type": "execute_result"
    }
   ],
   "source": [
    "car_maker_list[0:7]"
   ]
  },
  {
   "cell_type": "code",
   "execution_count": 50,
   "metadata": {},
   "outputs": [
    {
     "data": {
      "text/plain": [
       "[]"
      ]
     },
     "execution_count": 50,
     "metadata": {},
     "output_type": "execute_result"
    }
   ],
   "source": [
    "car_maker_list[7:]"
   ]
  },
  {
   "cell_type": "code",
   "execution_count": 51,
   "metadata": {},
   "outputs": [
    {
     "data": {
      "text/plain": [
       "['Toyota', 'Tata', 'Maruti', 'Hundai']"
      ]
     },
     "execution_count": 51,
     "metadata": {},
     "output_type": "execute_result"
    }
   ],
   "source": [
    "car_maker_list[:4]"
   ]
  },
  {
   "cell_type": "code",
   "execution_count": 52,
   "metadata": {},
   "outputs": [
    {
     "data": {
      "text/plain": [
       "['Hundai', 'Kia', 'Honda']"
      ]
     },
     "execution_count": 52,
     "metadata": {},
     "output_type": "execute_result"
    }
   ],
   "source": [
    "car_maker_list[3:]"
   ]
  },
  {
   "cell_type": "code",
   "execution_count": 53,
   "metadata": {},
   "outputs": [
    {
     "data": {
      "text/plain": [
       "['Toyota', 'Tata']"
      ]
     },
     "execution_count": 53,
     "metadata": {},
     "output_type": "execute_result"
    }
   ],
   "source": [
    "car_maker_list[0:-4]"
   ]
  },
  {
   "cell_type": "code",
   "execution_count": 54,
   "metadata": {},
   "outputs": [
    {
     "data": {
      "text/plain": [
       "['Maruti', 'Hundai', 'Kia']"
      ]
     },
     "execution_count": 54,
     "metadata": {},
     "output_type": "execute_result"
    }
   ],
   "source": [
    "car_maker_list[-4:-1]"
   ]
  },
  {
   "cell_type": "code",
   "execution_count": 55,
   "metadata": {},
   "outputs": [
    {
     "data": {
      "text/plain": [
       "['Toyota', 'Tata', 'Maruti', 'Hundai']"
      ]
     },
     "execution_count": 55,
     "metadata": {},
     "output_type": "execute_result"
    }
   ],
   "source": [
    "# step size \n",
    "car_maker_list[0: 4: ] # end one is step size "
   ]
  },
  {
   "cell_type": "code",
   "execution_count": 56,
   "metadata": {},
   "outputs": [
    {
     "data": {
      "text/plain": [
       "['Toyota', 'Maruti', 'Kia']"
      ]
     },
     "execution_count": 56,
     "metadata": {},
     "output_type": "execute_result"
    }
   ],
   "source": [
    "car_maker_list[::2 ]"
   ]
  },
  {
   "cell_type": "code",
   "execution_count": 60,
   "metadata": {},
   "outputs": [
    {
     "data": {
      "text/plain": [
       "['Kia', 'Hundai', 'Maruti', 'Tata']"
      ]
     },
     "execution_count": 60,
     "metadata": {},
     "output_type": "execute_result"
    }
   ],
   "source": [
    "car_maker_list[4:0: -1] # moving back ward "
   ]
  },
  {
   "cell_type": "code",
   "execution_count": 61,
   "metadata": {},
   "outputs": [
    {
     "data": {
      "text/plain": [
       "['Honda', 'Hundai', 'Tata']"
      ]
     },
     "execution_count": 61,
     "metadata": {},
     "output_type": "execute_result"
    }
   ],
   "source": [
    "car_maker_list[::-2 ]"
   ]
  },
  {
   "cell_type": "code",
   "execution_count": 62,
   "metadata": {},
   "outputs": [
    {
     "name": "stdout",
     "output_type": "stream",
     "text": [
      "['Toyota', 'Tata', 'Maruti', 'Hundai', 'Kia', 'Honda']\n"
     ]
    }
   ],
   "source": [
    "# assing new element \n",
    "print(car_maker_list)\n",
    "\n",
    "car_maker_list[6:-1] = ['Marcedees', 'BMW']"
   ]
  },
  {
   "cell_type": "code",
   "execution_count": 63,
   "metadata": {},
   "outputs": [
    {
     "data": {
      "text/plain": [
       "True"
      ]
     },
     "execution_count": 63,
     "metadata": {},
     "output_type": "execute_result"
    }
   ],
   "source": [
    "# in operator \n",
    "\n",
    "'BMW' in car_maker_list"
   ]
  },
  {
   "cell_type": "code",
   "execution_count": null,
   "metadata": {},
   "outputs": [],
   "source": []
  }
 ],
 "metadata": {
  "kernelspec": {
   "display_name": "Python 3",
   "language": "python",
   "name": "python3"
  },
  "language_info": {
   "codemirror_mode": {
    "name": "ipython",
    "version": 3
   },
   "file_extension": ".py",
   "mimetype": "text/x-python",
   "name": "python",
   "nbconvert_exporter": "python",
   "pygments_lexer": "ipython3",
   "version": "3.7.4"
  }
 },
 "nbformat": 4,
 "nbformat_minor": 4
}
