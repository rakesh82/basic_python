{
 "cells": [
  {
   "cell_type": "markdown",
   "metadata": {},
   "source": [
    "shallow and deep copy"
   ]
  },
  {
   "cell_type": "code",
   "execution_count": 4,
   "metadata": {},
   "outputs": [
    {
     "name": "stdout",
     "output_type": "stream",
     "text": [
      "Python\n",
      "Python\n",
      "New Python \n",
      "Python\n"
     ]
    }
   ],
   "source": [
    "# str copy \n",
    "str1 = 'Python'\n",
    "str2 = str1 \n",
    "\n",
    "print(str1)\n",
    "print(str2)\n",
    "\n",
    "str2 = \"New Python \"\n",
    "print(str2)\n",
    "print(str1)\n"
   ]
  },
  {
   "cell_type": "code",
   "execution_count": 6,
   "metadata": {},
   "outputs": [
    {
     "name": "stdout",
     "output_type": "stream",
     "text": [
      "Python\n",
      "New Python \n",
      "Python\n",
      "--------------\n",
      "Python\n",
      "New Python \n",
      "Updated Python\n"
     ]
    }
   ],
   "source": [
    "import copy \n",
    "\n",
    "str3 = copy.copy(str1) # same as assign \n",
    "print(str1)\n",
    "print(str2)\n",
    "print(str3)\n",
    "print('--------------')\n",
    "\n",
    "str3 = 'Updated Python'\n",
    "\n",
    "print(str1)\n",
    "print(str2)\n",
    "print(str3)\n"
   ]
  },
  {
   "cell_type": "code",
   "execution_count": 7,
   "metadata": {},
   "outputs": [
    {
     "name": "stdout",
     "output_type": "stream",
     "text": [
      "Python\n",
      "Python\n",
      "--------------\n",
      "Python\n",
      "Updated Python\n"
     ]
    }
   ],
   "source": [
    "# use of deepcopy\n",
    "str4 = copy.deepcopy(str1)\n",
    "\n",
    "print(str1)\n",
    "print(str4)\n",
    "print('--------------')\n",
    "\n",
    "str4 = 'Updated Python'\n",
    "\n",
    "print(str1)\n",
    "print(str4)\n"
   ]
  },
  {
   "cell_type": "code",
   "execution_count": 8,
   "metadata": {},
   "outputs": [],
   "source": [
    "# Note: For string - assign operator, copy and deepcopy there is no difference "
   ]
  },
  {
   "cell_type": "code",
   "execution_count": 9,
   "metadata": {},
   "outputs": [
    {
     "name": "stdout",
     "output_type": "stream",
     "text": [
      "Original:  ['Rakesh', 'Ashvin', 'Kshitij']\n",
      "Copy:  ['Rakesh', 'Ashvin', 'Kshitij']\n"
     ]
    }
   ],
   "source": [
    "\n",
    "# Shallow copy of list\n",
    "names= ['Rakesh', 'Ashvin', 'Kshitij']\n",
    "\n",
    "new_names = names \n",
    "print(\"Original: \", names)\n",
    "print(\"Copy: \", new_names)"
   ]
  },
  {
   "cell_type": "code",
   "execution_count": 10,
   "metadata": {},
   "outputs": [
    {
     "name": "stdout",
     "output_type": "stream",
     "text": [
      "Original:  ['Vinita', 'Ashvin', 'Kshitij']\n",
      "Copy:  ['Vinita', 'Ashvin', 'Kshitij']\n"
     ]
    }
   ],
   "source": [
    "# update new_names \n",
    "new_names[0] = 'Vinita'\n",
    "print(\"Original: \", names)\n",
    "print(\"Copy: \", new_names)\n",
    "\n",
    "# both lists will be updated as both refer to same memory - shallow copy "
   ]
  },
  {
   "cell_type": "code",
   "execution_count": 11,
   "metadata": {},
   "outputs": [
    {
     "name": "stdout",
     "output_type": "stream",
     "text": [
      "Original:  ['HCL', 'Yahoo', 'IBM']\n",
      "Copy:  ['HCL', 'Yahoo', 'IBM']\n",
      "-------After Modification\n",
      "Original:  ['HCL', 'Yahoo', 'IBM']\n",
      "Copy:  ['Wipro', 'Yahoo', 'IBM']\n"
     ]
    }
   ],
   "source": [
    "import copy \n",
    "\n",
    "comp_list = [\"HCL\", \"Yahoo\", \"IBM\"]\n",
    "new_comp_list = copy.copy(comp_list)  # deep copy - created new copy of list \n",
    "\n",
    "print(\"Original: \", comp_list)\n",
    "print(\"Copy: \", new_comp_list)\n",
    "print(\"-------After Modification\")\n",
    "new_comp_list[0] = 'Wipro'\n",
    "print(\"Original: \", comp_list)\n",
    "print(\"Copy: \", new_comp_list)\n"
   ]
  },
  {
   "cell_type": "code",
   "execution_count": 15,
   "metadata": {},
   "outputs": [
    {
     "name": "stdout",
     "output_type": "stream",
     "text": [
      "Original:  [[1, 2, 3], [4, 5, 6], [7, 8, 9]]\n",
      "Copy:  [[1, 2, 3], [4, 5, 6], [7, 8, 9]]\n",
      "-------After Modification\n",
      "Original:  [[1, 'Wipro', 3], [4, 5, 6], [7, 8, 9]]\n",
      "Copy:  [[1, 'Wipro', 3], [4, 5, 6], [7, 8, 9]]\n",
      "-------After Modification\n",
      "Original:  [[1, 'Wipro', 3], [4, 5, 6], [7, 8, 9], [10, 11, 12]]\n",
      "Copy:  [[1, 'Wipro', 3], [4, 5, 6], [7, 8, 9]]\n"
     ]
    }
   ],
   "source": [
    "# In case of nested list \n",
    "original = [[1,2,3], [4,5,6], [7,8,9]]\n",
    "updated = copy.copy(original)\n",
    "\n",
    "print(\"Original: \", original)\n",
    "print(\"Copy: \", updated)\n",
    "print(\"-------After Modification\")\n",
    "updated[0][1] = 'Wipro'\n",
    "print(\"Original: \", original)\n",
    "print(\"Copy: \", updated)\n",
    "\n",
    "# Inner list still refer to same list\n",
    "# what happen to outer list \n",
    "original.append([10,11,12])\n",
    "print(\"-------After Modification\")\n",
    "print(\"Original: \", original)\n",
    "print(\"Copy: \", updated)\n",
    "# Note that since deep copy happen to outer list so it only appended to original list \n"
   ]
  },
  {
   "cell_type": "code",
   "execution_count": 16,
   "metadata": {},
   "outputs": [],
   "source": [
    "# Note: copy.copy and copy.deepcopy for non-nested list it creat deep copy . \n"
   ]
  },
  {
   "cell_type": "code",
   "execution_count": 17,
   "metadata": {},
   "outputs": [
    {
     "name": "stdout",
     "output_type": "stream",
     "text": [
      "Original:  [[1, 2, 3], [4, 5, 6], [7, 8, 9]]\n",
      "Copy:  [[1, 2, 3], [4, 5, 6], [7, 8, 9]]\n",
      "-------After Modification\n",
      "Original:  [[1, 2, 3], [4, 5, 6], [7, 8, 9]]\n",
      "Copy:  [[1, 'Wipro', 3], [4, 5, 6], [7, 8, 9]]\n",
      "-------After Modification\n",
      "Original:  [[1, 2, 3], [4, 5, 6], [7, 8, 9], [10, 11, 12]]\n",
      "Copy:  [[1, 'Wipro', 3], [4, 5, 6], [7, 8, 9]]\n"
     ]
    }
   ],
   "source": [
    "original = [[1,2,3], [4,5,6], [7,8,9]]\n",
    "updated = copy.deepcopy(original)  # deepcopy will have create deep copy for nested list \n",
    "print(\"Original: \", original)\n",
    "print(\"Copy: \", updated)\n",
    "print(\"-------After Modification\")\n",
    "updated[0][1] = 'Wipro'\n",
    "print(\"Original: \", original)\n",
    "print(\"Copy: \", updated)\n",
    "\n",
    "# Inner list still refer to same list\n",
    "# what happen to outer list \n",
    "original.append([10,11,12])\n",
    "print(\"-------After Modification\")\n",
    "print(\"Original: \", original)\n",
    "print(\"Copy: \", updated)"
   ]
  },
  {
   "cell_type": "code",
   "execution_count": null,
   "metadata": {},
   "outputs": [],
   "source": []
  }
 ],
 "metadata": {
  "kernelspec": {
   "display_name": "Python 3",
   "language": "python",
   "name": "python3"
  },
  "language_info": {
   "codemirror_mode": {
    "name": "ipython",
    "version": 3
   },
   "file_extension": ".py",
   "mimetype": "text/x-python",
   "name": "python",
   "nbconvert_exporter": "python",
   "pygments_lexer": "ipython3",
   "version": "3.7.4"
  }
 },
 "nbformat": 4,
 "nbformat_minor": 4
}
