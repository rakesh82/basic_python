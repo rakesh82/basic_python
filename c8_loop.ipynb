{
 "cells": [
  {
   "cell_type": "markdown",
   "metadata": {},
   "source": [
    "Iterative over element in list"
   ]
  },
  {
   "cell_type": "code",
   "execution_count": 1,
   "metadata": {},
   "outputs": [
    {
     "name": "stdout",
     "output_type": "stream",
     "text": [
      "r\n",
      "a\n",
      "k\n",
      "e\n",
      "s\n",
      "h\n"
     ]
    }
   ],
   "source": [
    "for letter in ['r', 'a', 'k', 'e', 's', 'h']:\n",
    "    print(letter)"
   ]
  },
  {
   "cell_type": "code",
   "execution_count": 2,
   "metadata": {},
   "outputs": [
    {
     "name": "stdout",
     "output_type": "stream",
     "text": [
      "R\n",
      "a\n",
      "k\n",
      "e\n",
      "s\n",
      "h\n"
     ]
    }
   ],
   "source": [
    "for letter in \"Rakesh\":\n",
    "    print(letter)"
   ]
  },
  {
   "cell_type": "code",
   "execution_count": 3,
   "metadata": {},
   "outputs": [
    {
     "name": "stdout",
     "output_type": "stream",
     "text": [
      "R\n",
      "a\n",
      "k\n",
      "e\n",
      "s\n",
      "h\n"
     ]
    }
   ],
   "source": [
    "name = \"Rakesh\"\n",
    "for char in name:\n",
    "    print(char)"
   ]
  },
  {
   "cell_type": "code",
   "execution_count": 4,
   "metadata": {},
   "outputs": [
    {
     "name": "stdout",
     "output_type": "stream",
     "text": [
      "2\n",
      "1\n",
      "0\n"
     ]
    }
   ],
   "source": [
    "for digit in \"210\":\n",
    "    print(digit)"
   ]
  },
  {
   "cell_type": "code",
   "execution_count": 5,
   "metadata": {},
   "outputs": [
    {
     "ename": "TypeError",
     "evalue": "'int' object is not iterable",
     "output_type": "error",
     "traceback": [
      "\u001b[1;31m---------------------------------------------------------------------------\u001b[0m",
      "\u001b[1;31mTypeError\u001b[0m                                 Traceback (most recent call last)",
      "\u001b[1;32m<ipython-input-5-66b2a6749514>\u001b[0m in \u001b[0;36m<module>\u001b[1;34m\u001b[0m\n\u001b[1;32m----> 1\u001b[1;33m \u001b[1;32mfor\u001b[0m \u001b[0mdigit\u001b[0m \u001b[1;32min\u001b[0m \u001b[1;36m23\u001b[0m\u001b[1;33m:\u001b[0m\u001b[1;33m\u001b[0m\u001b[1;33m\u001b[0m\u001b[0m\n\u001b[0m\u001b[0;32m      2\u001b[0m     \u001b[0mprint\u001b[0m\u001b[1;33m(\u001b[0m\u001b[0mdigit\u001b[0m\u001b[1;33m)\u001b[0m\u001b[1;33m\u001b[0m\u001b[1;33m\u001b[0m\u001b[0m\n",
      "\u001b[1;31mTypeError\u001b[0m: 'int' object is not iterable"
     ]
    }
   ],
   "source": [
    "for digit in 23:\n",
    "    print(digit)"
   ]
  },
  {
   "cell_type": "code",
   "execution_count": 6,
   "metadata": {},
   "outputs": [],
   "source": [
    "# Note - all iteratable objects- list, string, tuple  are iterated using for"
   ]
  },
  {
   "cell_type": "code",
   "execution_count": 7,
   "metadata": {},
   "outputs": [
    {
     "name": "stdout",
     "output_type": "stream",
     "text": [
      "India\n",
      "USA\n",
      "Russia\n"
     ]
    }
   ],
   "source": [
    "for country in \"India\", \"USA\", \"Russia\":\n",
    "    print(country)"
   ]
  },
  {
   "cell_type": "code",
   "execution_count": 8,
   "metadata": {},
   "outputs": [
    {
     "name": "stdout",
     "output_type": "stream",
     "text": [
      "('Dog', 3)\n",
      "('cat', 2)\n",
      "('horse', 6)\n"
     ]
    }
   ],
   "source": [
    "# Tuple \n",
    "animal_age = (('Dog', 3), ('cat', 2), ('horse', 6))\n",
    "\n",
    "for x in animal_age:\n",
    "    print(x)"
   ]
  },
  {
   "cell_type": "code",
   "execution_count": 10,
   "metadata": {},
   "outputs": [
    {
     "name": "stdout",
     "output_type": "stream",
     "text": [
      "Dog  :  3\n",
      "cat  :  2\n",
      "horse  :  6\n"
     ]
    }
   ],
   "source": [
    "# use of enumerate \n",
    "for i, (animal, age) in enumerate(animal_age):  # enumerate along with value it also return the index \n",
    "    print(animal, ' : ', age )"
   ]
  },
  {
   "cell_type": "code",
   "execution_count": 12,
   "metadata": {},
   "outputs": [
    {
     "name": "stdout",
     "output_type": "stream",
     "text": [
      "Rakesh\n",
      "Ashvin\n",
      "Kshitij\n"
     ]
    }
   ],
   "source": [
    "# dictionary \n",
    "students = {\n",
    "        'Rakesh': 85,\n",
    "        'Ashvin': 95,\n",
    "        'Kshitij': 98\n",
    "}\n",
    "\n",
    "for key in students:\n",
    "    print(key )"
   ]
  },
  {
   "cell_type": "code",
   "execution_count": 13,
   "metadata": {},
   "outputs": [
    {
     "name": "stdout",
     "output_type": "stream",
     "text": [
      "Rakesh\n",
      "Ashvin\n",
      "Kshitij\n"
     ]
    }
   ],
   "source": [
    "# using keys function\n",
    "\n",
    "for key in students.keys():\n",
    "    print(key)"
   ]
  },
  {
   "cell_type": "code",
   "execution_count": 14,
   "metadata": {},
   "outputs": [
    {
     "name": "stdout",
     "output_type": "stream",
     "text": [
      "85\n",
      "95\n",
      "98\n"
     ]
    }
   ],
   "source": [
    "# using values \n",
    "for value in students.values():\n",
    "    print(value)"
   ]
  },
  {
   "cell_type": "code",
   "execution_count": 15,
   "metadata": {},
   "outputs": [
    {
     "name": "stdout",
     "output_type": "stream",
     "text": [
      "Rakesh   85\n",
      "Ashvin   95\n",
      "Kshitij   98\n"
     ]
    }
   ],
   "source": [
    "# getting key and value \n",
    "for key in students:\n",
    "    print(key, \" \", students[key])"
   ]
  },
  {
   "cell_type": "code",
   "execution_count": 16,
   "metadata": {},
   "outputs": [
    {
     "name": "stdout",
     "output_type": "stream",
     "text": [
      "Rakesh 85\n",
      "Ashvin 95\n",
      "Kshitij 98\n"
     ]
    }
   ],
   "source": [
    "for key,value in students.items():\n",
    "    print(key, value)"
   ]
  },
  {
   "cell_type": "code",
   "execution_count": 17,
   "metadata": {},
   "outputs": [
    {
     "name": "stdout",
     "output_type": "stream",
     "text": [
      "124\n",
      "2.5\n",
      "(2+3j)\n",
      "True\n",
      "Name\n",
      "('Rakesh', 38)\n",
      "['Ashivn', 98]\n",
      "{'Kshitij': 89}\n"
     ]
    }
   ],
   "source": [
    "#Mix of datatype \n",
    "items = [124, 2.5, 2+3j,\n",
    "        True, \"Name\", \n",
    "        ('Rakesh', 38), ['Ashivn', 98],\n",
    "        {\n",
    "            'Kshitij': 89\n",
    "        }]\n",
    "\n",
    "for item in items:\n",
    "    print(item)"
   ]
  },
  {
   "cell_type": "code",
   "execution_count": 18,
   "metadata": {},
   "outputs": [
    {
     "name": "stdout",
     "output_type": "stream",
     "text": [
      "4\n",
      "16\n",
      "64\n"
     ]
    }
   ],
   "source": [
    "# square of numbers \n",
    "my_list = [2, 4, 8]\n",
    "for item in my_list:\n",
    "    print(item ** 2)"
   ]
  },
  {
   "cell_type": "code",
   "execution_count": 19,
   "metadata": {},
   "outputs": [
    {
     "data": {
      "text/plain": [
       "19"
      ]
     },
     "execution_count": 19,
     "metadata": {},
     "output_type": "execute_result"
    }
   ],
   "source": [
    "# finding the length of given string \n",
    "name = \"Rakesh Kumar Mishra\"\n",
    "count = 0\n",
    "for i in name:\n",
    "    count +=1\n",
    "\n",
    "count"
   ]
  },
  {
   "cell_type": "code",
   "execution_count": 20,
   "metadata": {},
   "outputs": [
    {
     "name": "stdout",
     "output_type": "stream",
     "text": [
      "2\n",
      "3\n",
      "5\n",
      "Completed\n"
     ]
    }
   ],
   "source": [
    "# else statemt in for \n",
    "number = [2,3,5]\n",
    "for i in number:\n",
    "    print(i)\n",
    "else:\n",
    "    print(\"Completed\")"
   ]
  },
  {
   "cell_type": "code",
   "execution_count": 21,
   "metadata": {},
   "outputs": [
    {
     "name": "stdout",
     "output_type": "stream",
     "text": [
      "55\n",
      "45\n",
      "23\n",
      "No more to iterate \n"
     ]
    }
   ],
   "source": [
    "# another example of else with for \n",
    "\n",
    "my_set = {23, 45, 55}\n",
    "for i in my_set:\n",
    "    print(i)\n",
    "else:\n",
    "    print(\"No more to iterate \")"
   ]
  },
  {
   "cell_type": "code",
   "execution_count": 22,
   "metadata": {},
   "outputs": [
    {
     "name": "stdout",
     "output_type": "stream",
     "text": [
      "My current city of stay\n",
      "Lived earlier\n",
      "Lived earlier\n"
     ]
    }
   ],
   "source": [
    "# if statement in for loop\n",
    "city = [\"Chennai\", \"Hyderabad\", \"Bangalore\"]\n",
    "for c in city:\n",
    "    if c == \"Chennai\":\n",
    "        print(\"My current city of stay\")\n",
    "    else:\n",
    "        print(\"Lived earlier\")"
   ]
  },
  {
   "cell_type": "code",
   "execution_count": 23,
   "metadata": {},
   "outputs": [
    {
     "name": "stdout",
     "output_type": "stream",
     "text": [
      "1 : Odd number\n",
      "4 : Even number \n",
      "6 : Even number \n",
      "6 : Even number \n",
      "7 : Odd number\n",
      "9 : Odd number\n"
     ]
    }
   ],
   "source": [
    "# even numbers\n",
    "\n",
    "numbers = [1, 4, 6, 6, 7, 9]\n",
    "\n",
    "for i in numbers:\n",
    "    if i % 2  == 0:\n",
    "        print(i , \": Even number \")\n",
    "    else:\n",
    "        print(i, \": Odd number\")"
   ]
  },
  {
   "cell_type": "code",
   "execution_count": 24,
   "metadata": {},
   "outputs": [
    {
     "name": "stdout",
     "output_type": "stream",
     "text": [
      "[1, 2, 3, 4] : Contains - 1\n",
      "[1, 2, 3, 4] : Contains - 2\n",
      "[1, 2, 3, 4] : Contains - 3\n",
      "[1, 2, 3, 4] : Contains - 4\n",
      "['Chennai', 'Bangalore', 'Hyderabad'] : Contains - Chennai\n",
      "['Chennai', 'Bangalore', 'Hyderabad'] : Contains - Bangalore\n",
      "['Chennai', 'Bangalore', 'Hyderabad'] : Contains - Hyderabad\n"
     ]
    }
   ],
   "source": [
    "# list of lists\n",
    "outerList = [[1, 2, 3, 4], \n",
    "            ['Chennai', 'Bangalore', 'Hyderabad']\n",
    "        ]\n",
    "\n",
    "for i  in outerList:    # Nested for loop\n",
    "    for j in i:\n",
    "        print(i, \": Contains -\", j)"
   ]
  },
  {
   "cell_type": "code",
   "execution_count": 25,
   "metadata": {},
   "outputs": [
    {
     "data": {
      "text/plain": [
       "range(0, 5)"
      ]
     },
     "execution_count": 25,
     "metadata": {},
     "output_type": "execute_result"
    }
   ],
   "source": [
    "# Using range \n",
    "\n",
    "my_range = range(5)\n",
    "my_range # range object "
   ]
  },
  {
   "cell_type": "code",
   "execution_count": 26,
   "metadata": {},
   "outputs": [
    {
     "data": {
      "text/plain": [
       "(0, 1, 2, 3, 4)"
      ]
     },
     "execution_count": 26,
     "metadata": {},
     "output_type": "execute_result"
    }
   ],
   "source": [
    "tuple(my_range)"
   ]
  },
  {
   "cell_type": "code",
   "execution_count": 27,
   "metadata": {},
   "outputs": [
    {
     "name": "stdout",
     "output_type": "stream",
     "text": [
      "4\n",
      "5\n",
      "6\n",
      "7\n",
      "8\n",
      "9\n",
      "10\n",
      "11\n",
      "12\n",
      "13\n",
      "14\n",
      "15\n",
      "16\n",
      "17\n",
      "18\n",
      "19\n"
     ]
    }
   ],
   "source": [
    "# Note on range \n",
    "# range return an object containing numbers starting from start index to max -1 index. \n",
    "# If single argument is passed then it start from 0 to argument -1 i.e. in above ex it start with 0 to 5-1\n",
    "\n",
    "# Others examples of range \n",
    "for i in range(4, 20):\n",
    "    print(i)"
   ]
  },
  {
   "cell_type": "code",
   "execution_count": 28,
   "metadata": {},
   "outputs": [
    {
     "name": "stdout",
     "output_type": "stream",
     "text": [
      "4\n",
      "7\n",
      "10\n",
      "13\n"
     ]
    }
   ],
   "source": [
    "for i in range(4, 16, 3):\n",
    "    print(i)"
   ]
  },
  {
   "cell_type": "code",
   "execution_count": null,
   "metadata": {},
   "outputs": [],
   "source": []
  }
 ],
 "metadata": {
  "kernelspec": {
   "display_name": "Python 3",
   "language": "python",
   "name": "python3"
  },
  "language_info": {
   "codemirror_mode": {
    "name": "ipython",
    "version": 3
   },
   "file_extension": ".py",
   "mimetype": "text/x-python",
   "name": "python",
   "nbconvert_exporter": "python",
   "pygments_lexer": "ipython3",
   "version": "3.7.4"
  }
 },
 "nbformat": 4,
 "nbformat_minor": 4
}
