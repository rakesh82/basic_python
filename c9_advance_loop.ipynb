{
 "cells": [
  {
   "cell_type": "markdown",
   "metadata": {},
   "source": [
    "Advance operation in Loop "
   ]
  },
  {
   "cell_type": "code",
   "execution_count": 1,
   "metadata": {},
   "outputs": [],
   "source": [
    "# break statement in loop "
   ]
  },
  {
   "cell_type": "code",
   "execution_count": 2,
   "metadata": {},
   "outputs": [
    {
     "name": "stdout",
     "output_type": "stream",
     "text": [
      "0\n",
      "1\n",
      "2\n",
      "3\n",
      "4\n"
     ]
    }
   ],
   "source": [
    "# ex of break\n",
    "\n",
    "for x in range(10):\n",
    "    if x == 5:\n",
    "        break\n",
    "    else:\n",
    "        print(x)"
   ]
  },
  {
   "cell_type": "code",
   "execution_count": 6,
   "metadata": {},
   "outputs": [
    {
     "name": "stdout",
     "output_type": "stream",
     "text": [
      "Look\n",
      "Not found ... Keep Searching \n",
      "for\n",
      "Not found ... Keep Searching \n",
      "word\n",
      "Not found ... Keep Searching \n",
      "small\n",
      "Not found ... Keep Searching \n",
      "in\n",
      "Not found ... Keep Searching \n",
      "this\n",
      "Not found ... Keep Searching \n",
      "Found the Key\n"
     ]
    }
   ],
   "source": [
    "statement = ['Look', 'for', 'word', 'small', 'in', 'this', 'sentence']\n",
    "key = \"sentence\"\n",
    "\n",
    "for word in statement:\n",
    "    if key == word:\n",
    "        \n",
    "        print(\"Found the Key\")\n",
    "        break\n",
    "    else:\n",
    "        print(word)\n",
    "        print(\"Not found ... Keep Searching \")"
   ]
  },
  {
   "cell_type": "code",
   "execution_count": 8,
   "metadata": {},
   "outputs": [
    {
     "name": "stdout",
     "output_type": "stream",
     "text": [
      "Not found\n"
     ]
    }
   ],
   "source": [
    "statement = ['Look', 'for', 'word', 'small', 'in', 'this', 'sentence']\n",
    "key = \"sentence123\"\n",
    "\n",
    "for word in statement:\n",
    "    if key == word:\n",
    "        \n",
    "        print(\"Found the Key\")\n",
    "        break\n",
    "else:\n",
    "    print(\"Not found\")"
   ]
  },
  {
   "cell_type": "code",
   "execution_count": 10,
   "metadata": {},
   "outputs": [
    {
     "name": "stdin",
     "output_type": "stream",
     "text": [
      "Enter your Guess:  apple\n"
     ]
    },
    {
     "name": "stdout",
     "output_type": "stream",
     "text": [
      "Try one more time\n"
     ]
    },
    {
     "name": "stdin",
     "output_type": "stream",
     "text": [
      "Enter your Guess:  time\n"
     ]
    },
    {
     "name": "stdout",
     "output_type": "stream",
     "text": [
      "Try one more time\n"
     ]
    },
    {
     "name": "stdin",
     "output_type": "stream",
     "text": [
      "Enter your Guess:  google\n"
     ]
    },
    {
     "name": "stdout",
     "output_type": "stream",
     "text": [
      "Right, Your guess is correct\n"
     ]
    }
   ],
   "source": [
    "# Guess the word example - use of for else statement \n",
    "word = \"google\"\n",
    "for i in range(3):\n",
    "    guess = str(input(\"Enter your Guess: \"))\n",
    "    if guess == word:\n",
    "        print(\"Right, Your guess is correct\")\n",
    "        break\n",
    "    else:\n",
    "        print(\"Try one more time\")\n",
    "else:\n",
    "    print(\"You guess 3 times wrong. Try next time\")\n",
    "    \n",
    "        "
   ]
  },
  {
   "cell_type": "code",
   "execution_count": 11,
   "metadata": {},
   "outputs": [],
   "source": [
    "# Continue statement "
   ]
  },
  {
   "cell_type": "code",
   "execution_count": 12,
   "metadata": {},
   "outputs": [
    {
     "name": "stdout",
     "output_type": "stream",
     "text": [
      "10\n",
      "11\n",
      "12\n",
      "13\n",
      "14\n",
      "15\n",
      "16\n",
      "17\n",
      "18\n",
      "19\n",
      "Exit\n"
     ]
    }
   ],
   "source": [
    "# continue - will skip and moved to next iteration \n",
    "for i in range(20): \n",
    "    if i < 10:  # observe that i will not be printed till this condition false \n",
    "        continue \n",
    "    print(i)\n",
    "\n",
    "print(\"Exit\")"
   ]
  },
  {
   "cell_type": "code",
   "execution_count": 13,
   "metadata": {},
   "outputs": [
    {
     "name": "stdout",
     "output_type": "stream",
     "text": [
      "P\n",
      "y\n",
      "t\n",
      "h\n",
      "o\n",
      "n\n"
     ]
    }
   ],
   "source": [
    "# Pass - statement in for loop \n",
    "for x in \"Python\":\n",
    "    if x =='y':\n",
    "        pass\n",
    "    else:\n",
    "        print(x)"
   ]
  },
  {
   "cell_type": "code",
   "execution_count": null,
   "metadata": {},
   "outputs": [],
   "source": []
  }
 ],
 "metadata": {
  "kernelspec": {
   "display_name": "Python 3",
   "language": "python",
   "name": "python3"
  },
  "language_info": {
   "codemirror_mode": {
    "name": "ipython",
    "version": 3
   },
   "file_extension": ".py",
   "mimetype": "text/x-python",
   "name": "python",
   "nbconvert_exporter": "python",
   "pygments_lexer": "ipython3",
   "version": "3.7.4"
  }
 },
 "nbformat": 4,
 "nbformat_minor": 4
}
